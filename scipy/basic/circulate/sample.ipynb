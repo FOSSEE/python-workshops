{
 "cells": [
  {
   "cell_type": "markdown",
   "metadata": {},
   "source": [
    "A sample notebook\n",
    "==================\n",
    "\n",
    "Notebooks can contain:\n",
    "\n",
    "- Live Code\n",
    "- [Markdown text](https://daringfireball.net/projects/markdown/)\n",
    "- Markdown allows for images, links, tables, and raw HTML.\n",
    "- Equations using LaTeX markup  [Learn more](https://en.wikibooks.org/wiki/LaTeX/Mathematics)\n",
    "- Visualizations\n",
    "- [Interactive widgets](http://ipywidgets.readthedocs.io)\n"
   ]
  },
  {
   "cell_type": "markdown",
   "metadata": {},
   "source": [
    "Using the notebook\n",
    "-------------------\n",
    "\n",
    "\n",
    "- Familiarize yourself with the interface\n",
    "- Help -> Interface tour\n",
    "\n",
    "\n",
    "\n",
    "- UI is modal\n",
    "\n",
    "    - Esc puts you in command mode\n",
    "    - Enter puts you in edit mode\n",
    "\n",
    "- Write text in \"cells\"\n",
    "\n",
    "\n",
    "- Cells are of different types\n",
    "\n",
    "    - Markdown\n",
    "    - Code\n",
    "  \n",
    "- Learn the basic keyboard shortcuts\n",
    "\n",
    "    - Shift-Return to evaluate a cell\n",
    "    - Tab completion\n",
    "    - Shift-tab: tooltip help\n",
    "\n",
    "- In command mode\n",
    "\n",
    "    - Press `a` to add a cell above the current cell\n",
    "    - Press `b` to add the cell below the current cell\n",
    "    - Press `m` to treat a cell as markdown\n",
    "    - Press `y` to treat a cell as code"
   ]
  },
  {
   "cell_type": "markdown",
   "metadata": {},
   "source": [
    "Code cells\n",
    "-----------"
   ]
  },
  {
   "cell_type": "code",
   "execution_count": 1,
   "metadata": {
    "collapsed": false
   },
   "outputs": [
    {
     "name": "stdout",
     "output_type": "stream",
     "text": [
      "hello world\n"
     ]
    }
   ],
   "source": [
    "print(\"hello world\")"
   ]
  },
  {
   "cell_type": "code",
   "execution_count": 2,
   "metadata": {
    "collapsed": false
   },
   "outputs": [
    {
     "name": "stdout",
     "output_type": "stream",
     "text": [
      "0\n",
      "1\n",
      "2\n",
      "3\n",
      "4\n",
      "5\n",
      "6\n",
      "7\n",
      "8\n",
      "9\n"
     ]
    }
   ],
   "source": [
    "for i in range(10):\n",
    "    print(i)"
   ]
  },
  {
   "cell_type": "markdown",
   "metadata": {},
   "source": [
    "Markdown\n",
    "---------\n",
    "\n",
    "Learn more about [Markdown syntax](https://daringfireball.net/projects/markdown/).\n",
    "\n",
    "A simple image example:\n",
    "\n",
    "![Image example](lena.png)\n",
    "\n",
    "Some code:\n",
    "\n",
    "```\n",
    "for i in range(10):\n",
    "    print(i)\n",
    "```\n",
    "\n",
    "\n",
    "\n",
    "Equations\n",
    "---------\n",
    "\n",
    "Let us plot $y = \\int \\sin(x) dx $\n",
    "in the range $[0, 2\\pi]$  in the following.\n",
    "\n",
    "Note how we can add text and math formulae easily.\n",
    "\n",
    "To learn more about the LaTeX markup for formulae, see this link:\n",
    "\n",
    "https://en.wikibooks.org/wiki/LaTeX/Mathematics\n",
    "\n",
    "Also see below how we embed a plot.\n",
    "\n",
    "We use `%pylab inline` to embed plots in the document itself.\n",
    "\n",
    "Visualization\n",
    "--------------\n",
    "\n"
   ]
  },
  {
   "cell_type": "code",
   "execution_count": 3,
   "metadata": {
    "collapsed": false
   },
   "outputs": [
    {
     "name": "stdout",
     "output_type": "stream",
     "text": [
      "Populating the interactive namespace from numpy and matplotlib\n"
     ]
    }
   ],
   "source": [
    "%pylab inline\n"
   ]
  },
  {
   "cell_type": "code",
   "execution_count": 4,
   "metadata": {
    "collapsed": false
   },
   "outputs": [
    {
     "data": {
      "text/plain": [
       "[<matplotlib.lines.Line2D at 0x110295090>]"
      ]
     },
     "execution_count": 4,
     "metadata": {},
     "output_type": "execute_result"
    },
    {
     "data": {
      "image/png": "[encoded data removed]",
      "text/plain": [
       "<matplotlib.figure.Figure at 0x10e744550>"
      ]
     },
     "metadata": {},
     "output_type": "display_data"
    }
   ],
   "source": [
    "x = linspace(0, 2*pi, 200)\n",
    "plot(x, -cos(x))"
   ]
  },
  {
   "cell_type": "markdown",
   "metadata": {},
   "source": [
    "Another plot"
   ]
  },
  {
   "cell_type": "code",
   "execution_count": 5,
   "metadata": {
    "collapsed": false
   },
   "outputs": [
    {
     "data": {
      "text/plain": [
       "[<matplotlib.lines.Line2D at 0x1105a24d0>]"
      ]
     },
     "execution_count": 5,
     "metadata": {},
     "output_type": "execute_result"
    },
    {
     "data": {
      "image/png": "[encoded data removed]",
      "text/plain": [
       "<matplotlib.figure.Figure at 0x110246550>"
      ]
     },
     "metadata": {},
     "output_type": "display_data"
    }
   ],
   "source": [
    "plot(x, sin(x))"
   ]
  },
  {
   "cell_type": "markdown",
   "metadata": {},
   "source": [
    "A cleaner way to use matplotlib is as follows\n",
    "---------------------------------------------"
   ]
  },
  {
   "cell_type": "code",
   "execution_count": 6,
   "metadata": {
    "collapsed": true
   },
   "outputs": [],
   "source": [
    "%matplotlib inline\n",
    "from matplotlib import pyplot as plt\n",
    "from numpy import linspace, sin"
   ]
  },
  {
   "cell_type": "code",
   "execution_count": 7,
   "metadata": {
    "collapsed": false
   },
   "outputs": [
    {
     "data": {
      "text/plain": [
       "[<matplotlib.lines.Line2D at 0x1106ef850>]"
      ]
     },
     "execution_count": 7,
     "metadata": {},
     "output_type": "execute_result"
    },
    {
     "data": {
      "image/png": "[encoded data removed]",
      "text/plain": [
       "<matplotlib.figure.Figure at 0x1105587d0>"
      ]
     },
     "metadata": {},
     "output_type": "display_data"
    }
   ],
   "source": [
    "x = linspace(-5*pi, 5*pi, 200)\n",
    "plt.plot(x, sin(x)/x)"
   ]
  },
  {
   "cell_type": "markdown",
   "metadata": {},
   "source": [
    "Interactive widgets\n",
    "-------------------\n",
    "\n",
    "- Require the ipywidgets package to be installed\n",
    "- Here is a simple demo for adding interactivity to a plot\n"
   ]
  },
  {
   "cell_type": "code",
   "execution_count": 8,
   "metadata": {
    "collapsed": true
   },
   "outputs": [],
   "source": [
    "from ipywidgets import interact"
   ]
  },
  {
   "cell_type": "code",
   "execution_count": 9,
   "metadata": {
    "collapsed": true
   },
   "outputs": [],
   "source": [
    "def damp(alpha):\n",
    "    t = linspace(0, 4*pi, 200)\n",
    "    plot(t, exp(-t*alpha)*sin(t))"
   ]
  },
  {
   "cell_type": "code",
   "execution_count": 10,
   "metadata": {
    "collapsed": false
   },
   "outputs": [
    {
     "data": {
      "text/plain": [
       "<function __main__.damp>"
      ]
     },
     "execution_count": 10,
     "metadata": {},
     "output_type": "execute_result"
    },
    {
     "data": {
      "image/png": "[encoded data removed]",
      "text/plain": [
       "<matplotlib.figure.Figure at 0x1105585d0>"
      ]
     },
     "metadata": {},
     "output_type": "display_data"
    }
   ],
   "source": [
    "interact(damp, alpha=0.5)"
   ]
  },
  {
   "cell_type": "markdown",
   "metadata": {},
   "source": [
    "A slightly more complex example\n"
   ]
  },
  {
   "cell_type": "code",
   "execution_count": 11,
   "metadata": {
    "collapsed": false
   },
   "outputs": [
    {
     "data": {
      "text/plain": [
       "<function __main__.damp>"
      ]
     },
     "execution_count": 11,
     "metadata": {},
     "output_type": "execute_result"
    },
    {
     "data": {
      "image/png": "[encoded data removed]",
      "text/plain": [
       "<matplotlib.figure.Figure at 0x11094f210>"
      ]
     },
     "metadata": {},
     "output_type": "display_data"
    }
   ],
   "source": [
    "def damp(alpha, beta):\n",
    "    t = linspace(0, 4*pi, 200)\n",
    "    plot(t, exp(-t*alpha)*sin(t + beta))\n",
    "    \n",
    "interact(damp, alpha=0.2, beta=5.0)"
   ]
  },
  {
   "cell_type": "markdown",
   "metadata": {},
   "source": [
    "Learn more about widgets at: http://ipywidgets.readthedocs.io\n",
    "\n",
    "Remember to click on \"File->Close and Halt\" when closing a notebook.\n"
   ]
  }
 ],
 "metadata": {
  "kernelspec": {
   "display_name": "Python 2",
   "language": "python",
   "name": "python2"
  },
  "language_info": {
   "codemirror_mode": {
    "name": "ipython",
    "version": 2
   },
   "file_extension": ".py",
   "mimetype": "text/x-python",
   "name": "python",
   "nbconvert_exporter": "python",
   "pygments_lexer": "ipython2",
   "version": "2.7.11"
  },
  "widgets": {
   "state": {
    "81d12c825dd8485abbbf312ee78fc174": {
     "views": [
      {
       "cell_index": 16
      }
     ]
    },
    "9df38627ee694f0292ef2088d3878aff": {
     "views": [
      {
       "cell_index": 18
      }
     ]
    }
   },
   "version": "1.2.0"
  }
 },
 "nbformat": 4,
 "nbformat_minor": 0
}
